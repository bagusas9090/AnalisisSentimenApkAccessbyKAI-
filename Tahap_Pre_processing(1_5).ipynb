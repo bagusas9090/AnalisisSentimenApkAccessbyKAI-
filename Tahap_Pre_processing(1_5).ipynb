{
  "nbformat": 4,
  "nbformat_minor": 0,
  "metadata": {
    "colab": {
      "provenance": [],
      "collapsed_sections": [
        "yW-lpQwI1iDa",
        "ANDEpbI91Wn7",
        "UmSlF7vONyth",
        "bd_Qxx9ik-cL",
        "avW-styDCgca"
      ],
      "include_colab_link": true
    },
    "kernelspec": {
      "name": "python3",
      "display_name": "Python 3"
    },
    "language_info": {
      "name": "python"
    }
  },
  "cells": [
    {
      "cell_type": "markdown",
      "metadata": {
        "id": "view-in-github",
        "colab_type": "text"
      },
      "source": [
        "<a href=\"https://colab.research.google.com/github/bagusas9090/AnalisisSentimenApkAccessbyKAI-/blob/main/Tahap_Pre_processing(1_5).ipynb\" target=\"_parent\"><img src=\"https://colab.research.google.com/assets/colab-badge.svg\" alt=\"Open In Colab\"/></a>"
      ]
    },
    {
      "cell_type": "markdown",
      "source": [
        "**Tahap Pre-processing - Case Folding, Cleaning, Tokenizing, Filtering, Stemming**"
      ],
      "metadata": {
        "id": "SRmB7f9QGcBT"
      }
    },
    {
      "cell_type": "markdown",
      "source": [
        "*   Install library pandas\n",
        "*   Install library nltk"
      ],
      "metadata": {
        "id": "534P5UjvKimj"
      }
    },
    {
      "cell_type": "markdown",
      "source": [
        "## **Langkah 1 Case Folding**\n",
        "\n",
        "install library pandas"
      ],
      "metadata": {
        "id": "yW-lpQwI1iDa"
      }
    },
    {
      "cell_type": "markdown",
      "source": [
        "**Baris 1** instal pandas"
      ],
      "metadata": {
        "id": "wfV1NVg1g6TD"
      }
    },
    {
      "cell_type": "code",
      "source": [
        "!pip install pandas"
      ],
      "metadata": {
        "colab": {
          "base_uri": "https://localhost:8080/"
        },
        "id": "mN2JmT1R2XLa",
        "outputId": "38aef4d0-296a-4eea-a8e1-c9d418f67534",
        "collapsed": true
      },
      "execution_count": null,
      "outputs": [
        {
          "output_type": "stream",
          "name": "stdout",
          "text": [
            "Requirement already satisfied: pandas in /usr/local/lib/python3.10/dist-packages (2.0.3)\n",
            "Requirement already satisfied: python-dateutil>=2.8.2 in /usr/local/lib/python3.10/dist-packages (from pandas) (2.8.2)\n",
            "Requirement already satisfied: pytz>=2020.1 in /usr/local/lib/python3.10/dist-packages (from pandas) (2023.4)\n",
            "Requirement already satisfied: tzdata>=2022.1 in /usr/local/lib/python3.10/dist-packages (from pandas) (2024.1)\n",
            "Requirement already satisfied: numpy>=1.21.0 in /usr/local/lib/python3.10/dist-packages (from pandas) (1.25.2)\n",
            "Requirement already satisfied: six>=1.5 in /usr/local/lib/python3.10/dist-packages (from python-dateutil>=2.8.2->pandas) (1.16.0)\n"
          ]
        }
      ]
    },
    {
      "cell_type": "markdown",
      "source": [
        "**Baris 2** import pandas"
      ],
      "metadata": {
        "id": "Zc5RIQbChSJV"
      }
    },
    {
      "cell_type": "code",
      "source": [
        "#import\n",
        "import pandas as pd"
      ],
      "metadata": {
        "id": "LKCA0dVj2erZ"
      },
      "execution_count": null,
      "outputs": []
    },
    {
      "cell_type": "markdown",
      "source": [
        "**Baris 3** impor file csv"
      ],
      "metadata": {
        "id": "nQueUSEShfXe"
      }
    },
    {
      "cell_type": "code",
      "source": [
        "#membaca data csv dan menampilkan dataframe\n",
        "df= pd.read_csv('/content/Labeling1.csv')\n",
        "df"
      ],
      "metadata": {
        "colab": {
          "base_uri": "https://localhost:8080/",
          "height": 423
        },
        "id": "3wPswI-x2gd9",
        "outputId": "23a29e30-ff18-4864-aef5-e9c63ff960df",
        "collapsed": true
      },
      "execution_count": null,
      "outputs": [
        {
          "output_type": "execute_result",
          "data": {
            "text/plain": [
              "        Label                                               Text\n",
              "0     Positif  @UNY_Base Pake Prameks or ka bandara belinya d...\n",
              "1      Netral  Weekend recap Senin 13/5 -Mengajari pak bos me...\n",
              "2     Positif  @tanyakanrl Di aplikasi KAI access ada fitur r...\n",
              "3     Positif  @tanyakanrl Ke kereta mkn atau klo malas tingg...\n",
              "4     Positif  @tanyakanrl Pakai aplikasi kai access aja kala...\n",
              "...       ...                                                ...\n",
              "1019  Positif  @gaanbaru Dari gedebagenya bisa naik angkot tu...\n",
              "1020   Netral  braw! mau nanya kalau beli tiket KA lokal ke s...\n",
              "1021   Netral  @Unsoedfess1963 download apk kai akses beli ti...\n",
              "1022  Positif  @MenfessUnej Kalo kamu belinya ndek kai access...\n",
              "1023  Negatif  Kai ini gimana sihh pdhal udh order H-45 di ja...\n",
              "\n",
              "[1024 rows x 2 columns]"
            ],
            "text/html": [
              "\n",
              "  <div id=\"df-97b354de-5fba-409a-a11c-7ba35255ce2a\" class=\"colab-df-container\">\n",
              "    <div>\n",
              "<style scoped>\n",
              "    .dataframe tbody tr th:only-of-type {\n",
              "        vertical-align: middle;\n",
              "    }\n",
              "\n",
              "    .dataframe tbody tr th {\n",
              "        vertical-align: top;\n",
              "    }\n",
              "\n",
              "    .dataframe thead th {\n",
              "        text-align: right;\n",
              "    }\n",
              "</style>\n",
              "<table border=\"1\" class=\"dataframe\">\n",
              "  <thead>\n",
              "    <tr style=\"text-align: right;\">\n",
              "      <th></th>\n",
              "      <th>Label</th>\n",
              "      <th>Text</th>\n",
              "    </tr>\n",
              "  </thead>\n",
              "  <tbody>\n",
              "    <tr>\n",
              "      <th>0</th>\n",
              "      <td>Positif</td>\n",
              "      <td>@UNY_Base Pake Prameks or ka bandara belinya d...</td>\n",
              "    </tr>\n",
              "    <tr>\n",
              "      <th>1</th>\n",
              "      <td>Netral</td>\n",
              "      <td>Weekend recap Senin 13/5 -Mengajari pak bos me...</td>\n",
              "    </tr>\n",
              "    <tr>\n",
              "      <th>2</th>\n",
              "      <td>Positif</td>\n",
              "      <td>@tanyakanrl Di aplikasi KAI access ada fitur r...</td>\n",
              "    </tr>\n",
              "    <tr>\n",
              "      <th>3</th>\n",
              "      <td>Positif</td>\n",
              "      <td>@tanyakanrl Ke kereta mkn atau klo malas tingg...</td>\n",
              "    </tr>\n",
              "    <tr>\n",
              "      <th>4</th>\n",
              "      <td>Positif</td>\n",
              "      <td>@tanyakanrl Pakai aplikasi kai access aja kala...</td>\n",
              "    </tr>\n",
              "    <tr>\n",
              "      <th>...</th>\n",
              "      <td>...</td>\n",
              "      <td>...</td>\n",
              "    </tr>\n",
              "    <tr>\n",
              "      <th>1019</th>\n",
              "      <td>Positif</td>\n",
              "      <td>@gaanbaru Dari gedebagenya bisa naik angkot tu...</td>\n",
              "    </tr>\n",
              "    <tr>\n",
              "      <th>1020</th>\n",
              "      <td>Netral</td>\n",
              "      <td>braw! mau nanya kalau beli tiket KA lokal ke s...</td>\n",
              "    </tr>\n",
              "    <tr>\n",
              "      <th>1021</th>\n",
              "      <td>Netral</td>\n",
              "      <td>@Unsoedfess1963 download apk kai akses beli ti...</td>\n",
              "    </tr>\n",
              "    <tr>\n",
              "      <th>1022</th>\n",
              "      <td>Positif</td>\n",
              "      <td>@MenfessUnej Kalo kamu belinya ndek kai access...</td>\n",
              "    </tr>\n",
              "    <tr>\n",
              "      <th>1023</th>\n",
              "      <td>Negatif</td>\n",
              "      <td>Kai ini gimana sihh pdhal udh order H-45 di ja...</td>\n",
              "    </tr>\n",
              "  </tbody>\n",
              "</table>\n",
              "<p>1024 rows × 2 columns</p>\n",
              "</div>\n",
              "    <div class=\"colab-df-buttons\">\n",
              "\n",
              "  <div class=\"colab-df-container\">\n",
              "    <button class=\"colab-df-convert\" onclick=\"convertToInteractive('df-97b354de-5fba-409a-a11c-7ba35255ce2a')\"\n",
              "            title=\"Convert this dataframe to an interactive table.\"\n",
              "            style=\"display:none;\">\n",
              "\n",
              "  <svg xmlns=\"http://www.w3.org/2000/svg\" height=\"24px\" viewBox=\"0 -960 960 960\">\n",
              "    <path d=\"M120-120v-720h720v720H120Zm60-500h600v-160H180v160Zm220 220h160v-160H400v160Zm0 220h160v-160H400v160ZM180-400h160v-160H180v160Zm440 0h160v-160H620v160ZM180-180h160v-160H180v160Zm440 0h160v-160H620v160Z\"/>\n",
              "  </svg>\n",
              "    </button>\n",
              "\n",
              "  <style>\n",
              "    .colab-df-container {\n",
              "      display:flex;\n",
              "      gap: 12px;\n",
              "    }\n",
              "\n",
              "    .colab-df-convert {\n",
              "      background-color: #E8F0FE;\n",
              "      border: none;\n",
              "      border-radius: 50%;\n",
              "      cursor: pointer;\n",
              "      display: none;\n",
              "      fill: #1967D2;\n",
              "      height: 32px;\n",
              "      padding: 0 0 0 0;\n",
              "      width: 32px;\n",
              "    }\n",
              "\n",
              "    .colab-df-convert:hover {\n",
              "      background-color: #E2EBFA;\n",
              "      box-shadow: 0px 1px 2px rgba(60, 64, 67, 0.3), 0px 1px 3px 1px rgba(60, 64, 67, 0.15);\n",
              "      fill: #174EA6;\n",
              "    }\n",
              "\n",
              "    .colab-df-buttons div {\n",
              "      margin-bottom: 4px;\n",
              "    }\n",
              "\n",
              "    [theme=dark] .colab-df-convert {\n",
              "      background-color: #3B4455;\n",
              "      fill: #D2E3FC;\n",
              "    }\n",
              "\n",
              "    [theme=dark] .colab-df-convert:hover {\n",
              "      background-color: #434B5C;\n",
              "      box-shadow: 0px 1px 3px 1px rgba(0, 0, 0, 0.15);\n",
              "      filter: drop-shadow(0px 1px 2px rgba(0, 0, 0, 0.3));\n",
              "      fill: #FFFFFF;\n",
              "    }\n",
              "  </style>\n",
              "\n",
              "    <script>\n",
              "      const buttonEl =\n",
              "        document.querySelector('#df-97b354de-5fba-409a-a11c-7ba35255ce2a button.colab-df-convert');\n",
              "      buttonEl.style.display =\n",
              "        google.colab.kernel.accessAllowed ? 'block' : 'none';\n",
              "\n",
              "      async function convertToInteractive(key) {\n",
              "        const element = document.querySelector('#df-97b354de-5fba-409a-a11c-7ba35255ce2a');\n",
              "        const dataTable =\n",
              "          await google.colab.kernel.invokeFunction('convertToInteractive',\n",
              "                                                    [key], {});\n",
              "        if (!dataTable) return;\n",
              "\n",
              "        const docLinkHtml = 'Like what you see? Visit the ' +\n",
              "          '<a target=\"_blank\" href=https://colab.research.google.com/notebooks/data_table.ipynb>data table notebook</a>'\n",
              "          + ' to learn more about interactive tables.';\n",
              "        element.innerHTML = '';\n",
              "        dataTable['output_type'] = 'display_data';\n",
              "        await google.colab.output.renderOutput(dataTable, element);\n",
              "        const docLink = document.createElement('div');\n",
              "        docLink.innerHTML = docLinkHtml;\n",
              "        element.appendChild(docLink);\n",
              "      }\n",
              "    </script>\n",
              "  </div>\n",
              "\n",
              "\n",
              "<div id=\"df-0da67b3b-d0a5-44d1-b0de-70660d29ca26\">\n",
              "  <button class=\"colab-df-quickchart\" onclick=\"quickchart('df-0da67b3b-d0a5-44d1-b0de-70660d29ca26')\"\n",
              "            title=\"Suggest charts\"\n",
              "            style=\"display:none;\">\n",
              "\n",
              "<svg xmlns=\"http://www.w3.org/2000/svg\" height=\"24px\"viewBox=\"0 0 24 24\"\n",
              "     width=\"24px\">\n",
              "    <g>\n",
              "        <path d=\"M19 3H5c-1.1 0-2 .9-2 2v14c0 1.1.9 2 2 2h14c1.1 0 2-.9 2-2V5c0-1.1-.9-2-2-2zM9 17H7v-7h2v7zm4 0h-2V7h2v10zm4 0h-2v-4h2v4z\"/>\n",
              "    </g>\n",
              "</svg>\n",
              "  </button>\n",
              "\n",
              "<style>\n",
              "  .colab-df-quickchart {\n",
              "      --bg-color: #E8F0FE;\n",
              "      --fill-color: #1967D2;\n",
              "      --hover-bg-color: #E2EBFA;\n",
              "      --hover-fill-color: #174EA6;\n",
              "      --disabled-fill-color: #AAA;\n",
              "      --disabled-bg-color: #DDD;\n",
              "  }\n",
              "\n",
              "  [theme=dark] .colab-df-quickchart {\n",
              "      --bg-color: #3B4455;\n",
              "      --fill-color: #D2E3FC;\n",
              "      --hover-bg-color: #434B5C;\n",
              "      --hover-fill-color: #FFFFFF;\n",
              "      --disabled-bg-color: #3B4455;\n",
              "      --disabled-fill-color: #666;\n",
              "  }\n",
              "\n",
              "  .colab-df-quickchart {\n",
              "    background-color: var(--bg-color);\n",
              "    border: none;\n",
              "    border-radius: 50%;\n",
              "    cursor: pointer;\n",
              "    display: none;\n",
              "    fill: var(--fill-color);\n",
              "    height: 32px;\n",
              "    padding: 0;\n",
              "    width: 32px;\n",
              "  }\n",
              "\n",
              "  .colab-df-quickchart:hover {\n",
              "    background-color: var(--hover-bg-color);\n",
              "    box-shadow: 0 1px 2px rgba(60, 64, 67, 0.3), 0 1px 3px 1px rgba(60, 64, 67, 0.15);\n",
              "    fill: var(--button-hover-fill-color);\n",
              "  }\n",
              "\n",
              "  .colab-df-quickchart-complete:disabled,\n",
              "  .colab-df-quickchart-complete:disabled:hover {\n",
              "    background-color: var(--disabled-bg-color);\n",
              "    fill: var(--disabled-fill-color);\n",
              "    box-shadow: none;\n",
              "  }\n",
              "\n",
              "  .colab-df-spinner {\n",
              "    border: 2px solid var(--fill-color);\n",
              "    border-color: transparent;\n",
              "    border-bottom-color: var(--fill-color);\n",
              "    animation:\n",
              "      spin 1s steps(1) infinite;\n",
              "  }\n",
              "\n",
              "  @keyframes spin {\n",
              "    0% {\n",
              "      border-color: transparent;\n",
              "      border-bottom-color: var(--fill-color);\n",
              "      border-left-color: var(--fill-color);\n",
              "    }\n",
              "    20% {\n",
              "      border-color: transparent;\n",
              "      border-left-color: var(--fill-color);\n",
              "      border-top-color: var(--fill-color);\n",
              "    }\n",
              "    30% {\n",
              "      border-color: transparent;\n",
              "      border-left-color: var(--fill-color);\n",
              "      border-top-color: var(--fill-color);\n",
              "      border-right-color: var(--fill-color);\n",
              "    }\n",
              "    40% {\n",
              "      border-color: transparent;\n",
              "      border-right-color: var(--fill-color);\n",
              "      border-top-color: var(--fill-color);\n",
              "    }\n",
              "    60% {\n",
              "      border-color: transparent;\n",
              "      border-right-color: var(--fill-color);\n",
              "    }\n",
              "    80% {\n",
              "      border-color: transparent;\n",
              "      border-right-color: var(--fill-color);\n",
              "      border-bottom-color: var(--fill-color);\n",
              "    }\n",
              "    90% {\n",
              "      border-color: transparent;\n",
              "      border-bottom-color: var(--fill-color);\n",
              "    }\n",
              "  }\n",
              "</style>\n",
              "\n",
              "  <script>\n",
              "    async function quickchart(key) {\n",
              "      const quickchartButtonEl =\n",
              "        document.querySelector('#' + key + ' button');\n",
              "      quickchartButtonEl.disabled = true;  // To prevent multiple clicks.\n",
              "      quickchartButtonEl.classList.add('colab-df-spinner');\n",
              "      try {\n",
              "        const charts = await google.colab.kernel.invokeFunction(\n",
              "            'suggestCharts', [key], {});\n",
              "      } catch (error) {\n",
              "        console.error('Error during call to suggestCharts:', error);\n",
              "      }\n",
              "      quickchartButtonEl.classList.remove('colab-df-spinner');\n",
              "      quickchartButtonEl.classList.add('colab-df-quickchart-complete');\n",
              "    }\n",
              "    (() => {\n",
              "      let quickchartButtonEl =\n",
              "        document.querySelector('#df-0da67b3b-d0a5-44d1-b0de-70660d29ca26 button');\n",
              "      quickchartButtonEl.style.display =\n",
              "        google.colab.kernel.accessAllowed ? 'block' : 'none';\n",
              "    })();\n",
              "  </script>\n",
              "</div>\n",
              "\n",
              "  <div id=\"id_d6c2811e-26a0-49b6-b512-96d161b17efc\">\n",
              "    <style>\n",
              "      .colab-df-generate {\n",
              "        background-color: #E8F0FE;\n",
              "        border: none;\n",
              "        border-radius: 50%;\n",
              "        cursor: pointer;\n",
              "        display: none;\n",
              "        fill: #1967D2;\n",
              "        height: 32px;\n",
              "        padding: 0 0 0 0;\n",
              "        width: 32px;\n",
              "      }\n",
              "\n",
              "      .colab-df-generate:hover {\n",
              "        background-color: #E2EBFA;\n",
              "        box-shadow: 0px 1px 2px rgba(60, 64, 67, 0.3), 0px 1px 3px 1px rgba(60, 64, 67, 0.15);\n",
              "        fill: #174EA6;\n",
              "      }\n",
              "\n",
              "      [theme=dark] .colab-df-generate {\n",
              "        background-color: #3B4455;\n",
              "        fill: #D2E3FC;\n",
              "      }\n",
              "\n",
              "      [theme=dark] .colab-df-generate:hover {\n",
              "        background-color: #434B5C;\n",
              "        box-shadow: 0px 1px 3px 1px rgba(0, 0, 0, 0.15);\n",
              "        filter: drop-shadow(0px 1px 2px rgba(0, 0, 0, 0.3));\n",
              "        fill: #FFFFFF;\n",
              "      }\n",
              "    </style>\n",
              "    <button class=\"colab-df-generate\" onclick=\"generateWithVariable('df')\"\n",
              "            title=\"Generate code using this dataframe.\"\n",
              "            style=\"display:none;\">\n",
              "\n",
              "  <svg xmlns=\"http://www.w3.org/2000/svg\" height=\"24px\"viewBox=\"0 0 24 24\"\n",
              "       width=\"24px\">\n",
              "    <path d=\"M7,19H8.4L18.45,9,17,7.55,7,17.6ZM5,21V16.75L18.45,3.32a2,2,0,0,1,2.83,0l1.4,1.43a1.91,1.91,0,0,1,.58,1.4,1.91,1.91,0,0,1-.58,1.4L9.25,21ZM18.45,9,17,7.55Zm-12,3A5.31,5.31,0,0,0,4.9,8.1,5.31,5.31,0,0,0,1,6.5,5.31,5.31,0,0,0,4.9,4.9,5.31,5.31,0,0,0,6.5,1,5.31,5.31,0,0,0,8.1,4.9,5.31,5.31,0,0,0,12,6.5,5.46,5.46,0,0,0,6.5,12Z\"/>\n",
              "  </svg>\n",
              "    </button>\n",
              "    <script>\n",
              "      (() => {\n",
              "      const buttonEl =\n",
              "        document.querySelector('#id_d6c2811e-26a0-49b6-b512-96d161b17efc button.colab-df-generate');\n",
              "      buttonEl.style.display =\n",
              "        google.colab.kernel.accessAllowed ? 'block' : 'none';\n",
              "\n",
              "      buttonEl.onclick = () => {\n",
              "        google.colab.notebook.generateWithVariable('df');\n",
              "      }\n",
              "      })();\n",
              "    </script>\n",
              "  </div>\n",
              "\n",
              "    </div>\n",
              "  </div>\n"
            ],
            "application/vnd.google.colaboratory.intrinsic+json": {
              "type": "dataframe",
              "variable_name": "df",
              "summary": "{\n  \"name\": \"df\",\n  \"rows\": 1024,\n  \"fields\": [\n    {\n      \"column\": \"Label\",\n      \"properties\": {\n        \"dtype\": \"category\",\n        \"num_unique_values\": 3,\n        \"samples\": [\n          \"Positif\",\n          \"Netral\",\n          \"Negatif\"\n        ],\n        \"semantic_type\": \"\",\n        \"description\": \"\"\n      }\n    },\n    {\n      \"column\": \"Text\",\n      \"properties\": {\n        \"dtype\": \"string\",\n        \"num_unique_values\": 994,\n        \"samples\": [\n          \"@KAI121 min napa sih apk kai skrng lemookot banget sedih tauk \",\n          \"@KAI121 Min infonya dong KA Menoreh relasi PSE-SMT per Februari saya cek di aplikasi KAIAccess kok nggak ada ya? Memang dihapus atau nanti akan dimunculkan lagi ya?\",\n          \"@jogmfs KRL nder 8k aja. Jadwalnya tiap 1-2 jam ada. Trus kalo mau yg ekonomi-eksekutif2 gitu h-2 jam cek KAIaccess ada slot kosong buat go show engga mayan bgt diskonnya\"\n        ],\n        \"semantic_type\": \"\",\n        \"description\": \"\"\n      }\n    }\n  ]\n}"
            }
          },
          "metadata": {},
          "execution_count": 54
        }
      ]
    },
    {
      "cell_type": "markdown",
      "source": [
        "**Baris 4** Merubah teks menjadi lowercase"
      ],
      "metadata": {
        "id": "gAgQX0boiE9P"
      }
    },
    {
      "cell_type": "code",
      "source": [
        "#Merubah Text menjadi lowercase\n",
        "df['Case Folding'] = df['Text'].str.lower()"
      ],
      "metadata": {
        "id": "GLRwM1JR2yLM"
      },
      "execution_count": null,
      "outputs": []
    },
    {
      "cell_type": "markdown",
      "source": [
        "**Baris 5** Menampilkan Dataframe"
      ],
      "metadata": {
        "id": "f4xcWySgiPa0"
      }
    },
    {
      "cell_type": "code",
      "source": [
        "# Menampilkan DataFrame\n",
        "print(df)"
      ],
      "metadata": {
        "colab": {
          "base_uri": "https://localhost:8080/"
        },
        "id": "8u18tSZi3z_D",
        "outputId": "7dd302e3-49f6-4969-96cb-5449fcda455e",
        "collapsed": true
      },
      "execution_count": null,
      "outputs": [
        {
          "output_type": "stream",
          "name": "stdout",
          "text": [
            "        Label                                               Text  \\\n",
            "0     Positif  @UNY_Base Pake Prameks or ka bandara belinya d...   \n",
            "1      Netral  Weekend recap Senin 13/5 -Mengajari pak bos me...   \n",
            "2     Positif  @tanyakanrl Di aplikasi KAI access ada fitur r...   \n",
            "3     Positif  @tanyakanrl Ke kereta mkn atau klo malas tingg...   \n",
            "4     Positif  @tanyakanrl Pakai aplikasi kai access aja kala...   \n",
            "...       ...                                                ...   \n",
            "1019  Positif  @gaanbaru Dari gedebagenya bisa naik angkot tu...   \n",
            "1020   Netral  braw! mau nanya kalau beli tiket KA lokal ke s...   \n",
            "1021   Netral  @Unsoedfess1963 download apk kai akses beli ti...   \n",
            "1022  Positif  @MenfessUnej Kalo kamu belinya ndek kai access...   \n",
            "1023  Negatif  Kai ini gimana sihh pdhal udh order H-45 di ja...   \n",
            "\n",
            "                                           Case Folding  \n",
            "0     @uny_base pake prameks or ka bandara belinya d...  \n",
            "1     weekend recap senin 13/5 -mengajari pak bos me...  \n",
            "2     @tanyakanrl di aplikasi kai access ada fitur r...  \n",
            "3     @tanyakanrl ke kereta mkn atau klo malas tingg...  \n",
            "4     @tanyakanrl pakai aplikasi kai access aja kala...  \n",
            "...                                                 ...  \n",
            "1019  @gaanbaru dari gedebagenya bisa naik angkot tu...  \n",
            "1020  braw! mau nanya kalau beli tiket ka lokal ke s...  \n",
            "1021  @unsoedfess1963 download apk kai akses beli ti...  \n",
            "1022  @menfessunej kalo kamu belinya ndek kai access...  \n",
            "1023  kai ini gimana sihh pdhal udh order h-45 di ja...  \n",
            "\n",
            "[1024 rows x 3 columns]\n"
          ]
        }
      ]
    },
    {
      "cell_type": "markdown",
      "source": [
        "**Baris 6** Menyimpan data case folding"
      ],
      "metadata": {
        "id": "0lBblnjPiZky"
      }
    },
    {
      "cell_type": "code",
      "source": [
        "#Menyimpan data Case Folding\n",
        "df.to_csv(\"/content/data_casefolding.csv\")"
      ],
      "metadata": {
        "id": "BZfHYTdK3_fA"
      },
      "execution_count": null,
      "outputs": []
    },
    {
      "cell_type": "markdown",
      "source": [
        "## **Langkah 2 Cleaning**\n",
        "\n",
        "* install pandas\n",
        "* import re (Regular Expression)"
      ],
      "metadata": {
        "id": "ANDEpbI91Wn7"
      }
    },
    {
      "cell_type": "markdown",
      "source": [
        "**Baris 1** instal pandas"
      ],
      "metadata": {
        "id": "yu4F9dCJirRI"
      }
    },
    {
      "cell_type": "code",
      "source": [
        "!pip install pandas"
      ],
      "metadata": {
        "colab": {
          "base_uri": "https://localhost:8080/"
        },
        "id": "D85cs9SgJfna",
        "outputId": "a05a1e4c-696d-46b7-e68a-6895f1a2b919",
        "collapsed": true
      },
      "execution_count": null,
      "outputs": [
        {
          "output_type": "stream",
          "name": "stdout",
          "text": [
            "Requirement already satisfied: pandas in /usr/local/lib/python3.10/dist-packages (2.0.3)\n",
            "Requirement already satisfied: python-dateutil>=2.8.2 in /usr/local/lib/python3.10/dist-packages (from pandas) (2.8.2)\n",
            "Requirement already satisfied: pytz>=2020.1 in /usr/local/lib/python3.10/dist-packages (from pandas) (2023.4)\n",
            "Requirement already satisfied: tzdata>=2022.1 in /usr/local/lib/python3.10/dist-packages (from pandas) (2024.1)\n",
            "Requirement already satisfied: numpy>=1.21.0 in /usr/local/lib/python3.10/dist-packages (from pandas) (1.25.2)\n",
            "Requirement already satisfied: six>=1.5 in /usr/local/lib/python3.10/dist-packages (from python-dateutil>=2.8.2->pandas) (1.16.0)\n"
          ]
        }
      ]
    },
    {
      "cell_type": "markdown",
      "source": [
        "**Baris 2** import pandas, re, dan string"
      ],
      "metadata": {
        "id": "_2VJV1igiypP"
      }
    },
    {
      "cell_type": "code",
      "source": [
        "#import\n",
        "import pandas as pd\n",
        "import re\n",
        "import string"
      ],
      "metadata": {
        "id": "qIAc_onb4wNp"
      },
      "execution_count": null,
      "outputs": []
    },
    {
      "cell_type": "markdown",
      "source": [
        "**Baris 3** Fungsi untuk menghilangkan karakter yang tidak penting"
      ],
      "metadata": {
        "id": "HrX1sRQyjDqB"
      }
    },
    {
      "cell_type": "code",
      "source": [
        "#Menghilangkan angka, karakter, dan simbol pada data\n",
        "\n",
        "def clean_text(text): #function\n",
        "\n",
        "  text=re.sub(r'@[A-Za-z0-9_]+', '', text) #untuk menghapus mentions\n",
        "  text=re.sub(r'#\\w+', '', text) #untuk menghapus hashtag\n",
        "  text=re.sub(r'RT[\\s]+', '', text) #untuk menghapus retweet\n",
        "  text=re.sub(r'http?://\\S+', '', text) #untuk menghapus url http\n",
        "  text=re.sub(r'https?://\\S+|www\\.\\S+', '', text) #untuk menghapus url https dan www\n",
        "  text=re.sub(r'[^A-Za-z0-9 ]', '', text)  #untuk menghapus karakter alfanumerik\n",
        "  text=re.sub(r'\\s+', ' ', text).strip() #untuk menghapus spasi yang berlebihan\n",
        "  text=re.sub(r'[0-9]', ' ', text).strip() #untuk menghapus angka\n",
        "\n",
        "  return text"
      ],
      "metadata": {
        "id": "DV1t_Cr15KYz"
      },
      "execution_count": null,
      "outputs": []
    },
    {
      "cell_type": "markdown",
      "source": [
        "**Baris 4** Eksekusi perintah clean_text"
      ],
      "metadata": {
        "id": "mgej5QF0jzAq"
      }
    },
    {
      "cell_type": "code",
      "source": [
        "#eksekusi perintah clean_text\n",
        "data_cleaning_proces = df['Case Folding']\n",
        "df['Cleaning'] = [clean_text(i) for i in data_cleaning_proces]"
      ],
      "metadata": {
        "id": "cUvkcz6C5CJo"
      },
      "execution_count": null,
      "outputs": []
    },
    {
      "cell_type": "markdown",
      "source": [
        "**Baris 5** Menampilkan dataframe"
      ],
      "metadata": {
        "id": "-kyLD6TAkBGG"
      }
    },
    {
      "cell_type": "code",
      "source": [
        "# Menampilkan DataFrame\n",
        "print(df)"
      ],
      "metadata": {
        "colab": {
          "base_uri": "https://localhost:8080/"
        },
        "id": "u0eDHjxL5j2h",
        "outputId": "3530a932-9404-4203-80ef-53b3c0ba2a49",
        "collapsed": true
      },
      "execution_count": null,
      "outputs": [
        {
          "output_type": "stream",
          "name": "stdout",
          "text": [
            "        Label                                               Text  \\\n",
            "0     Positif  @UNY_Base Pake Prameks or ka bandara belinya d...   \n",
            "1      Netral  Weekend recap Senin 13/5 -Mengajari pak bos me...   \n",
            "2     Positif  @tanyakanrl Di aplikasi KAI access ada fitur r...   \n",
            "3     Positif  @tanyakanrl Ke kereta mkn atau klo malas tingg...   \n",
            "4     Positif  @tanyakanrl Pakai aplikasi kai access aja kala...   \n",
            "...       ...                                                ...   \n",
            "1019  Positif  @gaanbaru Dari gedebagenya bisa naik angkot tu...   \n",
            "1020   Netral  braw! mau nanya kalau beli tiket KA lokal ke s...   \n",
            "1021   Netral  @Unsoedfess1963 download apk kai akses beli ti...   \n",
            "1022  Positif  @MenfessUnej Kalo kamu belinya ndek kai access...   \n",
            "1023  Negatif  Kai ini gimana sihh pdhal udh order H-45 di ja...   \n",
            "\n",
            "                                           Case Folding  \\\n",
            "0     @uny_base pake prameks or ka bandara belinya d...   \n",
            "1     weekend recap senin 13/5 -mengajari pak bos me...   \n",
            "2     @tanyakanrl di aplikasi kai access ada fitur r...   \n",
            "3     @tanyakanrl ke kereta mkn atau klo malas tingg...   \n",
            "4     @tanyakanrl pakai aplikasi kai access aja kala...   \n",
            "...                                                 ...   \n",
            "1019  @gaanbaru dari gedebagenya bisa naik angkot tu...   \n",
            "1020  braw! mau nanya kalau beli tiket ka lokal ke s...   \n",
            "1021  @unsoedfess1963 download apk kai akses beli ti...   \n",
            "1022  @menfessunej kalo kamu belinya ndek kai access...   \n",
            "1023  kai ini gimana sihh pdhal udh order h-45 di ja...   \n",
            "\n",
            "                                               Cleaning  \n",
            "0     pake prameks or ka bandara belinya di aplikasi...  \n",
            "1     weekend recap senin     mengajari pak bos mema...  \n",
            "2     di aplikasi kai access ada fitur railfood pili...  \n",
            "3     ke kereta mkn atau klo malas tinggal pesan dri...  \n",
            "4     pakai aplikasi kai access aja kalau takut pese...  \n",
            "...                                                 ...  \n",
            "1019  dari gedebagenya bisa naik angkot turun di per...  \n",
            "1020  braw mau nanya kalau beli tiket ka lokal ke su...  \n",
            "1021  download apk kai akses beli tiket go show seja...  \n",
            "1022  kalo kamu belinya ndek kai access nggak usah d...  \n",
            "1023  kai ini gimana sihh pdhal udh order h   di jam...  \n",
            "\n",
            "[1024 rows x 4 columns]\n"
          ]
        }
      ]
    },
    {
      "cell_type": "markdown",
      "source": [
        "**Baris 6** Menyimpan data cleaning"
      ],
      "metadata": {
        "id": "YU9LC5l3kKI1"
      }
    },
    {
      "cell_type": "code",
      "source": [
        "#Menyimpan data Cleaning\n",
        "df.to_csv(\"/content/data_Cleaning.csv\")"
      ],
      "metadata": {
        "id": "h7930XIh5sBo"
      },
      "execution_count": null,
      "outputs": []
    },
    {
      "cell_type": "markdown",
      "source": [
        "## **Langkah 3 Tokenizing**\n",
        "\n",
        "*  install pandas\n",
        "*  install nltk"
      ],
      "metadata": {
        "id": "UmSlF7vONyth"
      }
    },
    {
      "cell_type": "markdown",
      "source": [
        "**Baris 1** Instal pandas dan nltk"
      ],
      "metadata": {
        "id": "AJNyQ7M-kz8s"
      }
    },
    {
      "cell_type": "code",
      "source": [
        "!pip install pandas\n",
        "!pip install nltk"
      ],
      "metadata": {
        "colab": {
          "base_uri": "https://localhost:8080/"
        },
        "id": "9y92Xr0F6fKs",
        "outputId": "2d320a67-be6d-4b3d-e1cb-c4852f53baa1"
      },
      "execution_count": null,
      "outputs": [
        {
          "output_type": "stream",
          "name": "stdout",
          "text": [
            "Requirement already satisfied: pandas in /usr/local/lib/python3.10/dist-packages (2.0.3)\n",
            "Requirement already satisfied: python-dateutil>=2.8.2 in /usr/local/lib/python3.10/dist-packages (from pandas) (2.8.2)\n",
            "Requirement already satisfied: pytz>=2020.1 in /usr/local/lib/python3.10/dist-packages (from pandas) (2023.4)\n",
            "Requirement already satisfied: tzdata>=2022.1 in /usr/local/lib/python3.10/dist-packages (from pandas) (2024.1)\n",
            "Requirement already satisfied: numpy>=1.21.0 in /usr/local/lib/python3.10/dist-packages (from pandas) (1.25.2)\n",
            "Requirement already satisfied: six>=1.5 in /usr/local/lib/python3.10/dist-packages (from python-dateutil>=2.8.2->pandas) (1.16.0)\n",
            "Requirement already satisfied: nltk in /usr/local/lib/python3.10/dist-packages (3.8.1)\n",
            "Requirement already satisfied: click in /usr/local/lib/python3.10/dist-packages (from nltk) (8.1.7)\n",
            "Requirement already satisfied: joblib in /usr/local/lib/python3.10/dist-packages (from nltk) (1.4.2)\n",
            "Requirement already satisfied: regex>=2021.8.3 in /usr/local/lib/python3.10/dist-packages (from nltk) (2024.5.15)\n",
            "Requirement already satisfied: tqdm in /usr/local/lib/python3.10/dist-packages (from nltk) (4.66.4)\n"
          ]
        }
      ]
    },
    {
      "cell_type": "markdown",
      "source": [
        "**Baris 2** import pandas, nltk, dan word_tokenize"
      ],
      "metadata": {
        "id": "49H2qGkek6Tg"
      }
    },
    {
      "cell_type": "code",
      "source": [
        "#Import\n",
        "import pandas as pd\n",
        "import nltk\n",
        "from nltk.tokenize import word_tokenize"
      ],
      "metadata": {
        "id": "zxVXuzufTavx"
      },
      "execution_count": null,
      "outputs": []
    },
    {
      "cell_type": "markdown",
      "source": [
        "**Baris 3** Unduh nltk yang berisi aturan untuk membagi kalimat menjadi kata-kata"
      ],
      "metadata": {
        "id": "0q3f7tBZlOtz"
      }
    },
    {
      "cell_type": "code",
      "source": [
        "nltk.download('punkt')"
      ],
      "metadata": {
        "colab": {
          "base_uri": "https://localhost:8080/"
        },
        "id": "OqqU25vbO7R6",
        "outputId": "71f2fe3d-d265-43ce-f17a-314e007b9927"
      },
      "execution_count": null,
      "outputs": [
        {
          "output_type": "stream",
          "name": "stderr",
          "text": [
            "[nltk_data] Downloading package punkt to /root/nltk_data...\n",
            "[nltk_data]   Package punkt is already up-to-date!\n"
          ]
        },
        {
          "output_type": "execute_result",
          "data": {
            "text/plain": [
              "True"
            ]
          },
          "metadata": {},
          "execution_count": 33
        }
      ]
    },
    {
      "cell_type": "markdown",
      "source": [
        "**Baris 4** Fungsi tokenizingText perintah untuk menerima input teks dalam tweet"
      ],
      "metadata": {
        "id": "hPLnTM-elpwU"
      }
    },
    {
      "cell_type": "code",
      "source": [
        "# Perintah Tokenizing\n",
        "def tokenizingText(tweets):\n",
        "  return nltk.word_tokenize(tweets)\n",
        "\n",
        "# Menambahkan kolom 'Tokenizing' dan menerapkan perintah tokenizing pada kolom Cleaning\n",
        "df['Tokenizing'] = df['Cleaning'].apply(tokenizingText)"
      ],
      "metadata": {
        "id": "W09viwa6Nwbf"
      },
      "execution_count": null,
      "outputs": []
    },
    {
      "cell_type": "markdown",
      "source": [
        "**Baris 5** Menampilakn dataframe"
      ],
      "metadata": {
        "id": "1Z9SaDnol5TT"
      }
    },
    {
      "cell_type": "code",
      "source": [
        "# Menampilkan DataFrame\n",
        "print(df)"
      ],
      "metadata": {
        "colab": {
          "base_uri": "https://localhost:8080/"
        },
        "id": "N1zNh45j7aSl",
        "outputId": "827e336d-f486-4af7-e155-026ea5e9cd7c",
        "collapsed": true
      },
      "execution_count": null,
      "outputs": [
        {
          "output_type": "stream",
          "name": "stdout",
          "text": [
            "        Label                                               Text  \\\n",
            "0     Positif  @UNY_Base Pake Prameks or ka bandara belinya d...   \n",
            "1      Netral  Weekend recap Senin 13/5 -Mengajari pak bos me...   \n",
            "2     Positif  @tanyakanrl Di aplikasi KAI access ada fitur r...   \n",
            "3     Positif  @tanyakanrl Ke kereta mkn atau klo malas tingg...   \n",
            "4     Positif  @tanyakanrl Pakai aplikasi kai access aja kala...   \n",
            "...       ...                                                ...   \n",
            "1019  Positif  @gaanbaru Dari gedebagenya bisa naik angkot tu...   \n",
            "1020   Netral  braw! mau nanya kalau beli tiket KA lokal ke s...   \n",
            "1021   Netral  @Unsoedfess1963 download apk kai akses beli ti...   \n",
            "1022  Positif  @MenfessUnej Kalo kamu belinya ndek kai access...   \n",
            "1023  Negatif  Kai ini gimana sihh pdhal udh order H-45 di ja...   \n",
            "\n",
            "                                           Case Folding  \\\n",
            "0     @uny_base pake prameks or ka bandara belinya d...   \n",
            "1     weekend recap senin 13/5 -mengajari pak bos me...   \n",
            "2     @tanyakanrl di aplikasi kai access ada fitur r...   \n",
            "3     @tanyakanrl ke kereta mkn atau klo malas tingg...   \n",
            "4     @tanyakanrl pakai aplikasi kai access aja kala...   \n",
            "...                                                 ...   \n",
            "1019  @gaanbaru dari gedebagenya bisa naik angkot tu...   \n",
            "1020  braw! mau nanya kalau beli tiket ka lokal ke s...   \n",
            "1021  @unsoedfess1963 download apk kai akses beli ti...   \n",
            "1022  @menfessunej kalo kamu belinya ndek kai access...   \n",
            "1023  kai ini gimana sihh pdhal udh order h-45 di ja...   \n",
            "\n",
            "                                               Cleaning  \\\n",
            "0     pake prameks or ka bandara belinya di aplikasi...   \n",
            "1     weekend recap senin     mengajari pak bos mema...   \n",
            "2     di aplikasi kai access ada fitur railfood pili...   \n",
            "3     ke kereta mkn atau klo malas tinggal pesan dri...   \n",
            "4     pakai aplikasi kai access aja kalau takut pese...   \n",
            "...                                                 ...   \n",
            "1019  dari gedebagenya bisa naik angkot turun di per...   \n",
            "1020  braw mau nanya kalau beli tiket ka lokal ke su...   \n",
            "1021  download apk kai akses beli tiket go show seja...   \n",
            "1022  kalo kamu belinya ndek kai access nggak usah d...   \n",
            "1023  kai ini gimana sihh pdhal udh order h   di jam...   \n",
            "\n",
            "                                             Tokenizing  \n",
            "0     [pake, prameks, or, ka, bandara, belinya, di, ...  \n",
            "1     [weekend, recap, senin, mengajari, pak, bos, m...  \n",
            "2     [di, aplikasi, kai, access, ada, fitur, railfo...  \n",
            "3     [ke, kereta, mkn, atau, klo, malas, tinggal, p...  \n",
            "4     [pakai, aplikasi, kai, access, aja, kalau, tak...  \n",
            "...                                                 ...  \n",
            "1019  [dari, gedebagenya, bisa, naik, angkot, turun,...  \n",
            "1020  [braw, mau, nanya, kalau, beli, tiket, ka, lok...  \n",
            "1021  [download, apk, kai, akses, beli, tiket, go, s...  \n",
            "1022  [kalo, kamu, belinya, ndek, kai, access, nggak...  \n",
            "1023  [kai, ini, gimana, sihh, pdhal, udh, order, h,...  \n",
            "\n",
            "[1024 rows x 5 columns]\n"
          ]
        }
      ]
    },
    {
      "cell_type": "markdown",
      "source": [
        "**Baris 6** Menyimpan data tokenizing"
      ],
      "metadata": {
        "id": "HGbSGce6l-Uh"
      }
    },
    {
      "cell_type": "code",
      "source": [
        "#Menyimpan data Tokenizing\n",
        "df.to_csv(\"/content/data_Tokenizing.csv\")"
      ],
      "metadata": {
        "id": "URY-djd-7x1M"
      },
      "execution_count": null,
      "outputs": []
    },
    {
      "cell_type": "markdown",
      "source": [
        "## **Langkah 4 Filtering** (Stopwords)\n",
        "\n",
        "* Install Pandas\n",
        "* Install nltk"
      ],
      "metadata": {
        "id": "bd_Qxx9ik-cL"
      }
    },
    {
      "cell_type": "markdown",
      "source": [
        "**Baris 1** Import stopwords dari nltk"
      ],
      "metadata": {
        "id": "KmSEX4dhmMYx"
      }
    },
    {
      "cell_type": "code",
      "source": [
        "#Import\n",
        "from nltk.corpus import stopwords"
      ],
      "metadata": {
        "id": "iwZR5CoK0gbs"
      },
      "execution_count": null,
      "outputs": []
    },
    {
      "cell_type": "markdown",
      "source": [
        "**Baris 2** Mengunduh kumpulan stopwords yang sudah ada di nltk, termasuk stopwords bahasa Indonesia"
      ],
      "metadata": {
        "id": "yWn15l-ambx4"
      }
    },
    {
      "cell_type": "code",
      "source": [
        "#Download stopwords\n",
        "nltk.download('stopwords')\n",
        "nltk.download('popular')"
      ],
      "metadata": {
        "colab": {
          "base_uri": "https://localhost:8080/"
        },
        "collapsed": true,
        "id": "QV9jMfNadJy5",
        "outputId": "adf7fd44-faf5-45c3-d79d-5f0954f9be9d"
      },
      "execution_count": null,
      "outputs": [
        {
          "output_type": "stream",
          "name": "stderr",
          "text": [
            "[nltk_data] Downloading package stopwords to /root/nltk_data...\n",
            "[nltk_data]   Unzipping corpora/stopwords.zip.\n",
            "[nltk_data] Downloading collection 'popular'\n",
            "[nltk_data]    | \n",
            "[nltk_data]    | Downloading package cmudict to /root/nltk_data...\n",
            "[nltk_data]    |   Unzipping corpora/cmudict.zip.\n",
            "[nltk_data]    | Downloading package gazetteers to /root/nltk_data...\n",
            "[nltk_data]    |   Unzipping corpora/gazetteers.zip.\n",
            "[nltk_data]    | Downloading package genesis to /root/nltk_data...\n",
            "[nltk_data]    |   Unzipping corpora/genesis.zip.\n",
            "[nltk_data]    | Downloading package gutenberg to /root/nltk_data...\n",
            "[nltk_data]    |   Unzipping corpora/gutenberg.zip.\n",
            "[nltk_data]    | Downloading package inaugural to /root/nltk_data...\n",
            "[nltk_data]    |   Unzipping corpora/inaugural.zip.\n",
            "[nltk_data]    | Downloading package movie_reviews to\n",
            "[nltk_data]    |     /root/nltk_data...\n",
            "[nltk_data]    |   Unzipping corpora/movie_reviews.zip.\n",
            "[nltk_data]    | Downloading package names to /root/nltk_data...\n",
            "[nltk_data]    |   Unzipping corpora/names.zip.\n",
            "[nltk_data]    | Downloading package shakespeare to /root/nltk_data...\n",
            "[nltk_data]    |   Unzipping corpora/shakespeare.zip.\n",
            "[nltk_data]    | Downloading package stopwords to /root/nltk_data...\n",
            "[nltk_data]    |   Package stopwords is already up-to-date!\n",
            "[nltk_data]    | Downloading package treebank to /root/nltk_data...\n",
            "[nltk_data]    |   Unzipping corpora/treebank.zip.\n",
            "[nltk_data]    | Downloading package twitter_samples to\n",
            "[nltk_data]    |     /root/nltk_data...\n",
            "[nltk_data]    |   Unzipping corpora/twitter_samples.zip.\n",
            "[nltk_data]    | Downloading package omw to /root/nltk_data...\n",
            "[nltk_data]    | Downloading package omw-1.4 to /root/nltk_data...\n",
            "[nltk_data]    | Downloading package wordnet to /root/nltk_data...\n",
            "[nltk_data]    | Downloading package wordnet2021 to /root/nltk_data...\n",
            "[nltk_data]    | Downloading package wordnet31 to /root/nltk_data...\n",
            "[nltk_data]    | Downloading package wordnet_ic to /root/nltk_data...\n",
            "[nltk_data]    |   Unzipping corpora/wordnet_ic.zip.\n",
            "[nltk_data]    | Downloading package words to /root/nltk_data...\n",
            "[nltk_data]    |   Unzipping corpora/words.zip.\n",
            "[nltk_data]    | Downloading package maxent_ne_chunker to\n",
            "[nltk_data]    |     /root/nltk_data...\n",
            "[nltk_data]    |   Unzipping chunkers/maxent_ne_chunker.zip.\n",
            "[nltk_data]    | Downloading package punkt to /root/nltk_data...\n",
            "[nltk_data]    |   Package punkt is already up-to-date!\n",
            "[nltk_data]    | Downloading package snowball_data to\n",
            "[nltk_data]    |     /root/nltk_data...\n",
            "[nltk_data]    | Downloading package averaged_perceptron_tagger to\n",
            "[nltk_data]    |     /root/nltk_data...\n",
            "[nltk_data]    |   Unzipping taggers/averaged_perceptron_tagger.zip.\n",
            "[nltk_data]    | \n",
            "[nltk_data]  Done downloading collection popular\n"
          ]
        },
        {
          "output_type": "execute_result",
          "data": {
            "text/plain": [
              "True"
            ]
          },
          "metadata": {},
          "execution_count": 21
        }
      ]
    },
    {
      "cell_type": "markdown",
      "source": [
        "**Baris 3** Menampilkan list yang berisi semua stopwords bahasa Indonesia yang telah diunduh dan menghitung jumlah kata"
      ],
      "metadata": {
        "id": "yqFGy4rgms-k"
      }
    },
    {
      "cell_type": "code",
      "source": [
        "# menampilkan kata stopwords bahasa indonesia\n",
        "indonesian_stop = stopwords.words('indonesian')\n",
        "\n",
        "# menghitung jumlah kata stopwords bahasa indonesia\n",
        "print('length of indonesian stopwords:', len(indonesian_stop))"
      ],
      "metadata": {
        "colab": {
          "base_uri": "https://localhost:8080/"
        },
        "id": "jJ3UryaCdN6K",
        "outputId": "862ca5f8-777d-4ef0-8088-866f98e91070"
      },
      "execution_count": null,
      "outputs": [
        {
          "output_type": "stream",
          "name": "stdout",
          "text": [
            "length of indonesian stopwords: 758\n"
          ]
        }
      ]
    },
    {
      "cell_type": "markdown",
      "source": [
        "**Baris 4** Fungsi remove_stopwords menerima dua argument review_text (teks yang akan diproses) dan indo_stopwords (daftar stopwords bahasa Indonesia)."
      ],
      "metadata": {
        "id": "Mb06_BC_nLP9"
      }
    },
    {
      "cell_type": "code",
      "source": [
        "# Perintah menghapus kata yang kurang penting\n",
        "def remove_stopwords(review_text, indo_stopwords):\n",
        "  Tokenizing = []\n",
        "  for term in review_text:\n",
        "    if term not in indo_stopwords:\n",
        "      Tokenizing.append(term)\n",
        "  return Tokenizing\n",
        "# Menambahkan kolom 'Stopwords' dan menerapkan perintah Stopwords pada kolom Tokenizing\n",
        "df['Stopwords'] = df['Tokenizing'].apply(lambda stop: remove_stopwords(stop, indonesian_stop))"
      ],
      "metadata": {
        "id": "gKHhbn5idlpE"
      },
      "execution_count": null,
      "outputs": []
    },
    {
      "cell_type": "markdown",
      "source": [
        "**Baris 5** Menampilkan dataframe"
      ],
      "metadata": {
        "id": "5jjPsZ6CnYCT"
      }
    },
    {
      "cell_type": "code",
      "source": [
        "# Menampilkan DataFrame\n",
        "print(df)"
      ],
      "metadata": {
        "colab": {
          "base_uri": "https://localhost:8080/"
        },
        "id": "y0GWrb9wd8c6",
        "outputId": "b878403f-c135-4d5f-a5ba-4a5e58f34e51",
        "collapsed": true
      },
      "execution_count": null,
      "outputs": [
        {
          "output_type": "stream",
          "name": "stdout",
          "text": [
            "        Label                                               Text  \\\n",
            "0     Positif  @UNY_Base Pake Prameks or ka bandara belinya d...   \n",
            "1      Netral  Weekend recap Senin 13/5 -Mengajari pak bos me...   \n",
            "2     Positif  @tanyakanrl Di aplikasi KAI access ada fitur r...   \n",
            "3     Positif  @tanyakanrl Ke kereta mkn atau klo malas tingg...   \n",
            "4     Positif  @tanyakanrl Pakai aplikasi kai access aja kala...   \n",
            "...       ...                                                ...   \n",
            "1019  Positif  @gaanbaru Dari gedebagenya bisa naik angkot tu...   \n",
            "1020   Netral  braw! mau nanya kalau beli tiket KA lokal ke s...   \n",
            "1021   Netral  @Unsoedfess1963 download apk kai akses beli ti...   \n",
            "1022  Positif  @MenfessUnej Kalo kamu belinya ndek kai access...   \n",
            "1023  Negatif  Kai ini gimana sihh pdhal udh order H-45 di ja...   \n",
            "\n",
            "                                           Case Folding  \\\n",
            "0     @uny_base pake prameks or ka bandara belinya d...   \n",
            "1     weekend recap senin 13/5 -mengajari pak bos me...   \n",
            "2     @tanyakanrl di aplikasi kai access ada fitur r...   \n",
            "3     @tanyakanrl ke kereta mkn atau klo malas tingg...   \n",
            "4     @tanyakanrl pakai aplikasi kai access aja kala...   \n",
            "...                                                 ...   \n",
            "1019  @gaanbaru dari gedebagenya bisa naik angkot tu...   \n",
            "1020  braw! mau nanya kalau beli tiket ka lokal ke s...   \n",
            "1021  @unsoedfess1963 download apk kai akses beli ti...   \n",
            "1022  @menfessunej kalo kamu belinya ndek kai access...   \n",
            "1023  kai ini gimana sihh pdhal udh order h-45 di ja...   \n",
            "\n",
            "                                               Cleaning  \\\n",
            "0     pake prameks or ka bandara belinya di aplikasi...   \n",
            "1     weekend recap senin     mengajari pak bos mema...   \n",
            "2     di aplikasi kai access ada fitur railfood pili...   \n",
            "3     ke kereta mkn atau klo malas tinggal pesan dri...   \n",
            "4     pakai aplikasi kai access aja kalau takut pese...   \n",
            "...                                                 ...   \n",
            "1019  dari gedebagenya bisa naik angkot turun di per...   \n",
            "1020  braw mau nanya kalau beli tiket ka lokal ke su...   \n",
            "1021  download apk kai akses beli tiket go show seja...   \n",
            "1022  kalo kamu belinya ndek kai access nggak usah d...   \n",
            "1023  kai ini gimana sihh pdhal udh order h   di jam...   \n",
            "\n",
            "                                             Tokenizing  \\\n",
            "0     [pake, prameks, or, ka, bandara, belinya, di, ...   \n",
            "1     [weekend, recap, senin, mengajari, pak, bos, m...   \n",
            "2     [di, aplikasi, kai, access, ada, fitur, railfo...   \n",
            "3     [ke, kereta, mkn, atau, klo, malas, tinggal, p...   \n",
            "4     [pakai, aplikasi, kai, access, aja, kalau, tak...   \n",
            "...                                                 ...   \n",
            "1019  [dari, gedebagenya, bisa, naik, angkot, turun,...   \n",
            "1020  [braw, mau, nanya, kalau, beli, tiket, ka, lok...   \n",
            "1021  [download, apk, kai, akses, beli, tiket, go, s...   \n",
            "1022  [kalo, kamu, belinya, ndek, kai, access, nggak...   \n",
            "1023  [kai, ini, gimana, sihh, pdhal, udh, order, h,...   \n",
            "\n",
            "                                              Stopwords  \n",
            "0     [pake, prameks, or, ka, bandara, belinya, apli...  \n",
            "1     [weekend, recap, senin, mengajari, bos, memaka...  \n",
            "2     [aplikasi, kai, access, fitur, railfood, pilih...  \n",
            "3     [kereta, mkn, klo, malas, tinggal, pesan, dri,...  \n",
            "4     [pakai, aplikasi, kai, access, aja, takut, pes...  \n",
            "...                                                 ...  \n",
            "1019  [gedebagenya, angkot, turun, perempatan, trus,...  \n",
            "1020  [braw, nanya, beli, tiket, ka, lokal, surabaya...  \n",
            "1021  [download, apk, kai, akses, beli, tiket, go, s...  \n",
            "1022  [kalo, belinya, ndek, kai, access, nggak, prin...  \n",
            "1023  [kai, gimana, sihh, pdhal, udh, order, h, jam,...  \n",
            "\n",
            "[1024 rows x 6 columns]\n"
          ]
        }
      ]
    },
    {
      "cell_type": "markdown",
      "source": [
        "**Baris 6** Menyimpan data stopwords"
      ],
      "metadata": {
        "id": "4XQxM7tjneqe"
      }
    },
    {
      "cell_type": "code",
      "source": [
        "#Menyimpan data Stopwords\n",
        "df.to_csv(\"/content/data_Stopwords.csv\")"
      ],
      "metadata": {
        "id": "1ZXawAA6Bwpm"
      },
      "execution_count": null,
      "outputs": []
    },
    {
      "cell_type": "markdown",
      "source": [
        "## **Langkah 5 Stemming**\n",
        "\n",
        "* install library sastrawi\n",
        "* install library pandas"
      ],
      "metadata": {
        "id": "avW-styDCgca"
      }
    },
    {
      "cell_type": "markdown",
      "source": [
        "**Baris 1** instal pandas dan sastrawi"
      ],
      "metadata": {
        "id": "TIcZUAozn_vC"
      }
    },
    {
      "cell_type": "code",
      "source": [
        "!pip install sastrawi\n",
        "!pip install pandas"
      ],
      "metadata": {
        "colab": {
          "base_uri": "https://localhost:8080/"
        },
        "id": "TXaaS-rqCyQ9",
        "outputId": "90fe507e-eb5f-4156-f8b1-ee6325941141"
      },
      "execution_count": null,
      "outputs": [
        {
          "output_type": "stream",
          "name": "stdout",
          "text": [
            "Collecting sastrawi\n",
            "  Downloading Sastrawi-1.0.1-py2.py3-none-any.whl (209 kB)\n",
            "\u001b[2K     \u001b[90m━━━━━━━━━━━━━━━━━━━━━━━━━━━━━━━━━━━━━━━━\u001b[0m \u001b[32m209.7/209.7 kB\u001b[0m \u001b[31m4.8 MB/s\u001b[0m eta \u001b[36m0:00:00\u001b[0m\n",
            "\u001b[?25hInstalling collected packages: sastrawi\n",
            "Successfully installed sastrawi-1.0.1\n",
            "Requirement already satisfied: pandas in /usr/local/lib/python3.10/dist-packages (2.0.3)\n",
            "Requirement already satisfied: python-dateutil>=2.8.2 in /usr/local/lib/python3.10/dist-packages (from pandas) (2.8.2)\n",
            "Requirement already satisfied: pytz>=2020.1 in /usr/local/lib/python3.10/dist-packages (from pandas) (2023.4)\n",
            "Requirement already satisfied: tzdata>=2022.1 in /usr/local/lib/python3.10/dist-packages (from pandas) (2024.1)\n",
            "Requirement already satisfied: numpy>=1.21.0 in /usr/local/lib/python3.10/dist-packages (from pandas) (1.25.2)\n",
            "Requirement already satisfied: six>=1.5 in /usr/local/lib/python3.10/dist-packages (from python-dateutil>=2.8.2->pandas) (1.16.0)\n"
          ]
        }
      ]
    },
    {
      "cell_type": "markdown",
      "source": [
        "**Baris 2** import pandas dan StemmerFactory dari sastrawi"
      ],
      "metadata": {
        "id": "a6IyF7BNoPom"
      }
    },
    {
      "cell_type": "code",
      "source": [
        "#import\n",
        "from Sastrawi.Stemmer.StemmerFactory import StemmerFactory\n",
        "import pandas as pd"
      ],
      "metadata": {
        "id": "3lJHVlmLC-tD"
      },
      "execution_count": null,
      "outputs": []
    },
    {
      "cell_type": "markdown",
      "source": [
        "**Baris 3** Fungsi untuk mengubah kata menjadi bentuk dasarnya"
      ],
      "metadata": {
        "id": "NyAzfsxPoecj"
      }
    },
    {
      "cell_type": "code",
      "source": [
        "def back_to_root(review_text):\n",
        "  stop_token = ' '.join(review_text)\n",
        "  stem = StemmerFactory()\n",
        "  create_stem = stem.create_stemmer()\n",
        "  result_stem = create_stem.stem(stop_token)\n",
        "  return result_stem\n",
        "\n",
        "df['Stemming_text'] = df['Stopwords'].apply(lambda stem:back_to_root(stem))"
      ],
      "metadata": {
        "id": "wqKLw6tyxtI_"
      },
      "execution_count": null,
      "outputs": []
    },
    {
      "cell_type": "markdown",
      "source": [
        "**Baris 4** Menampilkan dataframe"
      ],
      "metadata": {
        "id": "_7oOJ9q4o2Y-"
      }
    },
    {
      "cell_type": "code",
      "source": [
        "# Menampilkan DataFrame\n",
        "print(df)"
      ],
      "metadata": {
        "colab": {
          "base_uri": "https://localhost:8080/"
        },
        "id": "U9wQCpeeyUzq",
        "outputId": "9a114cce-2473-4df7-8fa3-4f34adf84f3e"
      },
      "execution_count": null,
      "outputs": [
        {
          "output_type": "stream",
          "name": "stdout",
          "text": [
            "        Label                                               Text  \\\n",
            "0     Positif  @UNY_Base Pake Prameks or ka bandara belinya d...   \n",
            "1      Netral  Weekend recap Senin 13/5 -Mengajari pak bos me...   \n",
            "2     Positif  @tanyakanrl Di aplikasi KAI access ada fitur r...   \n",
            "3     Positif  @tanyakanrl Ke kereta mkn atau klo malas tingg...   \n",
            "4     Positif  @tanyakanrl Pakai aplikasi kai access aja kala...   \n",
            "...       ...                                                ...   \n",
            "1019  Positif  @gaanbaru Dari gedebagenya bisa naik angkot tu...   \n",
            "1020   Netral  braw! mau nanya kalau beli tiket KA lokal ke s...   \n",
            "1021   Netral  @Unsoedfess1963 download apk kai akses beli ti...   \n",
            "1022  Positif  @MenfessUnej Kalo kamu belinya ndek kai access...   \n",
            "1023  Negatif  Kai ini gimana sihh pdhal udh order H-45 di ja...   \n",
            "\n",
            "                                           Case Folding  \\\n",
            "0     @uny_base pake prameks or ka bandara belinya d...   \n",
            "1     weekend recap senin 13/5 -mengajari pak bos me...   \n",
            "2     @tanyakanrl di aplikasi kai access ada fitur r...   \n",
            "3     @tanyakanrl ke kereta mkn atau klo malas tingg...   \n",
            "4     @tanyakanrl pakai aplikasi kai access aja kala...   \n",
            "...                                                 ...   \n",
            "1019  @gaanbaru dari gedebagenya bisa naik angkot tu...   \n",
            "1020  braw! mau nanya kalau beli tiket ka lokal ke s...   \n",
            "1021  @unsoedfess1963 download apk kai akses beli ti...   \n",
            "1022  @menfessunej kalo kamu belinya ndek kai access...   \n",
            "1023  kai ini gimana sihh pdhal udh order h-45 di ja...   \n",
            "\n",
            "                                               Cleaning  \\\n",
            "0     pake prameks or ka bandara belinya di aplikasi...   \n",
            "1     weekend recap senin     mengajari pak bos mema...   \n",
            "2     di aplikasi kai access ada fitur railfood pili...   \n",
            "3     ke kereta mkn atau klo malas tinggal pesan dri...   \n",
            "4     pakai aplikasi kai access aja kalau takut pese...   \n",
            "...                                                 ...   \n",
            "1019  dari gedebagenya bisa naik angkot turun di per...   \n",
            "1020  braw mau nanya kalau beli tiket ka lokal ke su...   \n",
            "1021  download apk kai akses beli tiket go show seja...   \n",
            "1022  kalo kamu belinya ndek kai access nggak usah d...   \n",
            "1023  kai ini gimana sihh pdhal udh order h   di jam...   \n",
            "\n",
            "                                             Tokenizing  \\\n",
            "0     [pake, prameks, or, ka, bandara, belinya, di, ...   \n",
            "1     [weekend, recap, senin, mengajari, pak, bos, m...   \n",
            "2     [di, aplikasi, kai, access, ada, fitur, railfo...   \n",
            "3     [ke, kereta, mkn, atau, klo, malas, tinggal, p...   \n",
            "4     [pakai, aplikasi, kai, access, aja, kalau, tak...   \n",
            "...                                                 ...   \n",
            "1019  [dari, gedebagenya, bisa, naik, angkot, turun,...   \n",
            "1020  [braw, mau, nanya, kalau, beli, tiket, ka, lok...   \n",
            "1021  [download, apk, kai, akses, beli, tiket, go, s...   \n",
            "1022  [kalo, kamu, belinya, ndek, kai, access, nggak...   \n",
            "1023  [kai, ini, gimana, sihh, pdhal, udh, order, h,...   \n",
            "\n",
            "                                              Stopwords  \\\n",
            "0     [pake, prameks, or, ka, bandara, belinya, apli...   \n",
            "1     [weekend, recap, senin, mengajari, bos, memaka...   \n",
            "2     [aplikasi, kai, access, fitur, railfood, pilih...   \n",
            "3     [kereta, mkn, klo, malas, tinggal, pesan, dri,...   \n",
            "4     [pakai, aplikasi, kai, access, aja, takut, pes...   \n",
            "...                                                 ...   \n",
            "1019  [gedebagenya, angkot, turun, perempatan, trus,...   \n",
            "1020  [braw, nanya, beli, tiket, ka, lokal, surabaya...   \n",
            "1021  [download, apk, kai, akses, beli, tiket, go, s...   \n",
            "1022  [kalo, belinya, ndek, kai, access, nggak, prin...   \n",
            "1023  [kai, gimana, sihh, pdhal, udh, order, h, jam,...   \n",
            "\n",
            "                                          Stemming_text  \n",
            "0     pake prameks or ka bandara beli aplikasi kai a...  \n",
            "1     weekend recap senin ajar bos pakai aplikasi ka...  \n",
            "2     aplikasi kai access fitur railfood pilih tiket...  \n",
            "3     kereta mkn klo malas tinggal pesan dri aplikas...  \n",
            "4      pakai aplikasi kai access aja takut sen langsung  \n",
            "...                                                 ...  \n",
            "1019  gedebagenya angkot turun empat trus jalan stas...  \n",
            "1020  braw nanya beli tiket ka lokal surabaya tuh st...  \n",
            "1021  download apk kai akses beli tiket go show jam ...  \n",
            "1022  kalo beli ndek kai access nggak print langsung...  \n",
            "1023  kai gimana sihh pdhal udh order h jam malam te...  \n",
            "\n",
            "[1024 rows x 7 columns]\n"
          ]
        }
      ]
    },
    {
      "cell_type": "markdown",
      "source": [
        "**Baris 5** Menampilkan dataframe"
      ],
      "metadata": {
        "id": "d52nSpmGo_WF"
      }
    },
    {
      "cell_type": "code",
      "source": [
        "df"
      ],
      "metadata": {
        "colab": {
          "base_uri": "https://localhost:8080/",
          "height": 666
        },
        "id": "5GdXPkbTyahI",
        "outputId": "2df9cb2a-93a8-4db2-eb30-db85d7c47e0f",
        "collapsed": true
      },
      "execution_count": null,
      "outputs": [
        {
          "output_type": "execute_result",
          "data": {
            "text/plain": [
              "        Label                                               Text  \\\n",
              "0     Positif  @UNY_Base Pake Prameks or ka bandara belinya d...   \n",
              "1      Netral  Weekend recap Senin 13/5 -Mengajari pak bos me...   \n",
              "2     Positif  @tanyakanrl Di aplikasi KAI access ada fitur r...   \n",
              "3     Positif  @tanyakanrl Ke kereta mkn atau klo malas tingg...   \n",
              "4     Positif  @tanyakanrl Pakai aplikasi kai access aja kala...   \n",
              "...       ...                                                ...   \n",
              "1019  Positif  @gaanbaru Dari gedebagenya bisa naik angkot tu...   \n",
              "1020   Netral  braw! mau nanya kalau beli tiket KA lokal ke s...   \n",
              "1021   Netral  @Unsoedfess1963 download apk kai akses beli ti...   \n",
              "1022  Positif  @MenfessUnej Kalo kamu belinya ndek kai access...   \n",
              "1023  Negatif  Kai ini gimana sihh pdhal udh order H-45 di ja...   \n",
              "\n",
              "                                           Case Folding  \\\n",
              "0     @uny_base pake prameks or ka bandara belinya d...   \n",
              "1     weekend recap senin 13/5 -mengajari pak bos me...   \n",
              "2     @tanyakanrl di aplikasi kai access ada fitur r...   \n",
              "3     @tanyakanrl ke kereta mkn atau klo malas tingg...   \n",
              "4     @tanyakanrl pakai aplikasi kai access aja kala...   \n",
              "...                                                 ...   \n",
              "1019  @gaanbaru dari gedebagenya bisa naik angkot tu...   \n",
              "1020  braw! mau nanya kalau beli tiket ka lokal ke s...   \n",
              "1021  @unsoedfess1963 download apk kai akses beli ti...   \n",
              "1022  @menfessunej kalo kamu belinya ndek kai access...   \n",
              "1023  kai ini gimana sihh pdhal udh order h-45 di ja...   \n",
              "\n",
              "                                               Cleaning  \\\n",
              "0     pake prameks or ka bandara belinya di aplikasi...   \n",
              "1     weekend recap senin     mengajari pak bos mema...   \n",
              "2     di aplikasi kai access ada fitur railfood pili...   \n",
              "3     ke kereta mkn atau klo malas tinggal pesan dri...   \n",
              "4     pakai aplikasi kai access aja kalau takut pese...   \n",
              "...                                                 ...   \n",
              "1019  dari gedebagenya bisa naik angkot turun di per...   \n",
              "1020  braw mau nanya kalau beli tiket ka lokal ke su...   \n",
              "1021  download apk kai akses beli tiket go show seja...   \n",
              "1022  kalo kamu belinya ndek kai access nggak usah d...   \n",
              "1023  kai ini gimana sihh pdhal udh order h   di jam...   \n",
              "\n",
              "                                             Tokenizing  \\\n",
              "0     [pake, prameks, or, ka, bandara, belinya, di, ...   \n",
              "1     [weekend, recap, senin, mengajari, pak, bos, m...   \n",
              "2     [di, aplikasi, kai, access, ada, fitur, railfo...   \n",
              "3     [ke, kereta, mkn, atau, klo, malas, tinggal, p...   \n",
              "4     [pakai, aplikasi, kai, access, aja, kalau, tak...   \n",
              "...                                                 ...   \n",
              "1019  [dari, gedebagenya, bisa, naik, angkot, turun,...   \n",
              "1020  [braw, mau, nanya, kalau, beli, tiket, ka, lok...   \n",
              "1021  [download, apk, kai, akses, beli, tiket, go, s...   \n",
              "1022  [kalo, kamu, belinya, ndek, kai, access, nggak...   \n",
              "1023  [kai, ini, gimana, sihh, pdhal, udh, order, h,...   \n",
              "\n",
              "                                              Stopwords  \\\n",
              "0     [pake, prameks, or, ka, bandara, belinya, apli...   \n",
              "1     [weekend, recap, senin, mengajari, bos, memaka...   \n",
              "2     [aplikasi, kai, access, fitur, railfood, pilih...   \n",
              "3     [kereta, mkn, klo, malas, tinggal, pesan, dri,...   \n",
              "4     [pakai, aplikasi, kai, access, aja, takut, pes...   \n",
              "...                                                 ...   \n",
              "1019  [gedebagenya, angkot, turun, perempatan, trus,...   \n",
              "1020  [braw, nanya, beli, tiket, ka, lokal, surabaya...   \n",
              "1021  [download, apk, kai, akses, beli, tiket, go, s...   \n",
              "1022  [kalo, belinya, ndek, kai, access, nggak, prin...   \n",
              "1023  [kai, gimana, sihh, pdhal, udh, order, h, jam,...   \n",
              "\n",
              "                                          Stemming_text  \n",
              "0     pake prameks or ka bandara beli aplikasi kai a...  \n",
              "1     weekend recap senin ajar bos pakai aplikasi ka...  \n",
              "2     aplikasi kai access fitur railfood pilih tiket...  \n",
              "3     kereta mkn klo malas tinggal pesan dri aplikas...  \n",
              "4      pakai aplikasi kai access aja takut sen langsung  \n",
              "...                                                 ...  \n",
              "1019  gedebagenya angkot turun empat trus jalan stas...  \n",
              "1020  braw nanya beli tiket ka lokal surabaya tuh st...  \n",
              "1021  download apk kai akses beli tiket go show jam ...  \n",
              "1022  kalo beli ndek kai access nggak print langsung...  \n",
              "1023  kai gimana sihh pdhal udh order h jam malam te...  \n",
              "\n",
              "[1024 rows x 7 columns]"
            ],
            "text/html": [
              "\n",
              "  <div id=\"df-6cada036-1cb8-4bc6-931c-288db13089a4\" class=\"colab-df-container\">\n",
              "    <div>\n",
              "<style scoped>\n",
              "    .dataframe tbody tr th:only-of-type {\n",
              "        vertical-align: middle;\n",
              "    }\n",
              "\n",
              "    .dataframe tbody tr th {\n",
              "        vertical-align: top;\n",
              "    }\n",
              "\n",
              "    .dataframe thead th {\n",
              "        text-align: right;\n",
              "    }\n",
              "</style>\n",
              "<table border=\"1\" class=\"dataframe\">\n",
              "  <thead>\n",
              "    <tr style=\"text-align: right;\">\n",
              "      <th></th>\n",
              "      <th>Label</th>\n",
              "      <th>Text</th>\n",
              "      <th>Case Folding</th>\n",
              "      <th>Cleaning</th>\n",
              "      <th>Tokenizing</th>\n",
              "      <th>Stopwords</th>\n",
              "      <th>Stemming_text</th>\n",
              "    </tr>\n",
              "  </thead>\n",
              "  <tbody>\n",
              "    <tr>\n",
              "      <th>0</th>\n",
              "      <td>Positif</td>\n",
              "      <td>@UNY_Base Pake Prameks or ka bandara belinya d...</td>\n",
              "      <td>@uny_base pake prameks or ka bandara belinya d...</td>\n",
              "      <td>pake prameks or ka bandara belinya di aplikasi...</td>\n",
              "      <td>[pake, prameks, or, ka, bandara, belinya, di, ...</td>\n",
              "      <td>[pake, prameks, or, ka, bandara, belinya, apli...</td>\n",
              "      <td>pake prameks or ka bandara beli aplikasi kai a...</td>\n",
              "    </tr>\n",
              "    <tr>\n",
              "      <th>1</th>\n",
              "      <td>Netral</td>\n",
              "      <td>Weekend recap Senin 13/5 -Mengajari pak bos me...</td>\n",
              "      <td>weekend recap senin 13/5 -mengajari pak bos me...</td>\n",
              "      <td>weekend recap senin     mengajari pak bos mema...</td>\n",
              "      <td>[weekend, recap, senin, mengajari, pak, bos, m...</td>\n",
              "      <td>[weekend, recap, senin, mengajari, bos, memaka...</td>\n",
              "      <td>weekend recap senin ajar bos pakai aplikasi ka...</td>\n",
              "    </tr>\n",
              "    <tr>\n",
              "      <th>2</th>\n",
              "      <td>Positif</td>\n",
              "      <td>@tanyakanrl Di aplikasi KAI access ada fitur r...</td>\n",
              "      <td>@tanyakanrl di aplikasi kai access ada fitur r...</td>\n",
              "      <td>di aplikasi kai access ada fitur railfood pili...</td>\n",
              "      <td>[di, aplikasi, kai, access, ada, fitur, railfo...</td>\n",
              "      <td>[aplikasi, kai, access, fitur, railfood, pilih...</td>\n",
              "      <td>aplikasi kai access fitur railfood pilih tiket...</td>\n",
              "    </tr>\n",
              "    <tr>\n",
              "      <th>3</th>\n",
              "      <td>Positif</td>\n",
              "      <td>@tanyakanrl Ke kereta mkn atau klo malas tingg...</td>\n",
              "      <td>@tanyakanrl ke kereta mkn atau klo malas tingg...</td>\n",
              "      <td>ke kereta mkn atau klo malas tinggal pesan dri...</td>\n",
              "      <td>[ke, kereta, mkn, atau, klo, malas, tinggal, p...</td>\n",
              "      <td>[kereta, mkn, klo, malas, tinggal, pesan, dri,...</td>\n",
              "      <td>kereta mkn klo malas tinggal pesan dri aplikas...</td>\n",
              "    </tr>\n",
              "    <tr>\n",
              "      <th>4</th>\n",
              "      <td>Positif</td>\n",
              "      <td>@tanyakanrl Pakai aplikasi kai access aja kala...</td>\n",
              "      <td>@tanyakanrl pakai aplikasi kai access aja kala...</td>\n",
              "      <td>pakai aplikasi kai access aja kalau takut pese...</td>\n",
              "      <td>[pakai, aplikasi, kai, access, aja, kalau, tak...</td>\n",
              "      <td>[pakai, aplikasi, kai, access, aja, takut, pes...</td>\n",
              "      <td>pakai aplikasi kai access aja takut sen langsung</td>\n",
              "    </tr>\n",
              "    <tr>\n",
              "      <th>...</th>\n",
              "      <td>...</td>\n",
              "      <td>...</td>\n",
              "      <td>...</td>\n",
              "      <td>...</td>\n",
              "      <td>...</td>\n",
              "      <td>...</td>\n",
              "      <td>...</td>\n",
              "    </tr>\n",
              "    <tr>\n",
              "      <th>1019</th>\n",
              "      <td>Positif</td>\n",
              "      <td>@gaanbaru Dari gedebagenya bisa naik angkot tu...</td>\n",
              "      <td>@gaanbaru dari gedebagenya bisa naik angkot tu...</td>\n",
              "      <td>dari gedebagenya bisa naik angkot turun di per...</td>\n",
              "      <td>[dari, gedebagenya, bisa, naik, angkot, turun,...</td>\n",
              "      <td>[gedebagenya, angkot, turun, perempatan, trus,...</td>\n",
              "      <td>gedebagenya angkot turun empat trus jalan stas...</td>\n",
              "    </tr>\n",
              "    <tr>\n",
              "      <th>1020</th>\n",
              "      <td>Netral</td>\n",
              "      <td>braw! mau nanya kalau beli tiket KA lokal ke s...</td>\n",
              "      <td>braw! mau nanya kalau beli tiket ka lokal ke s...</td>\n",
              "      <td>braw mau nanya kalau beli tiket ka lokal ke su...</td>\n",
              "      <td>[braw, mau, nanya, kalau, beli, tiket, ka, lok...</td>\n",
              "      <td>[braw, nanya, beli, tiket, ka, lokal, surabaya...</td>\n",
              "      <td>braw nanya beli tiket ka lokal surabaya tuh st...</td>\n",
              "    </tr>\n",
              "    <tr>\n",
              "      <th>1021</th>\n",
              "      <td>Netral</td>\n",
              "      <td>@Unsoedfess1963 download apk kai akses beli ti...</td>\n",
              "      <td>@unsoedfess1963 download apk kai akses beli ti...</td>\n",
              "      <td>download apk kai akses beli tiket go show seja...</td>\n",
              "      <td>[download, apk, kai, akses, beli, tiket, go, s...</td>\n",
              "      <td>[download, apk, kai, akses, beli, tiket, go, s...</td>\n",
              "      <td>download apk kai akses beli tiket go show jam ...</td>\n",
              "    </tr>\n",
              "    <tr>\n",
              "      <th>1022</th>\n",
              "      <td>Positif</td>\n",
              "      <td>@MenfessUnej Kalo kamu belinya ndek kai access...</td>\n",
              "      <td>@menfessunej kalo kamu belinya ndek kai access...</td>\n",
              "      <td>kalo kamu belinya ndek kai access nggak usah d...</td>\n",
              "      <td>[kalo, kamu, belinya, ndek, kai, access, nggak...</td>\n",
              "      <td>[kalo, belinya, ndek, kai, access, nggak, prin...</td>\n",
              "      <td>kalo beli ndek kai access nggak print langsung...</td>\n",
              "    </tr>\n",
              "    <tr>\n",
              "      <th>1023</th>\n",
              "      <td>Negatif</td>\n",
              "      <td>Kai ini gimana sihh pdhal udh order H-45 di ja...</td>\n",
              "      <td>kai ini gimana sihh pdhal udh order h-45 di ja...</td>\n",
              "      <td>kai ini gimana sihh pdhal udh order h   di jam...</td>\n",
              "      <td>[kai, ini, gimana, sihh, pdhal, udh, order, h,...</td>\n",
              "      <td>[kai, gimana, sihh, pdhal, udh, order, h, jam,...</td>\n",
              "      <td>kai gimana sihh pdhal udh order h jam malam te...</td>\n",
              "    </tr>\n",
              "  </tbody>\n",
              "</table>\n",
              "<p>1024 rows × 7 columns</p>\n",
              "</div>\n",
              "    <div class=\"colab-df-buttons\">\n",
              "\n",
              "  <div class=\"colab-df-container\">\n",
              "    <button class=\"colab-df-convert\" onclick=\"convertToInteractive('df-6cada036-1cb8-4bc6-931c-288db13089a4')\"\n",
              "            title=\"Convert this dataframe to an interactive table.\"\n",
              "            style=\"display:none;\">\n",
              "\n",
              "  <svg xmlns=\"http://www.w3.org/2000/svg\" height=\"24px\" viewBox=\"0 -960 960 960\">\n",
              "    <path d=\"M120-120v-720h720v720H120Zm60-500h600v-160H180v160Zm220 220h160v-160H400v160Zm0 220h160v-160H400v160ZM180-400h160v-160H180v160Zm440 0h160v-160H620v160ZM180-180h160v-160H180v160Zm440 0h160v-160H620v160Z\"/>\n",
              "  </svg>\n",
              "    </button>\n",
              "\n",
              "  <style>\n",
              "    .colab-df-container {\n",
              "      display:flex;\n",
              "      gap: 12px;\n",
              "    }\n",
              "\n",
              "    .colab-df-convert {\n",
              "      background-color: #E8F0FE;\n",
              "      border: none;\n",
              "      border-radius: 50%;\n",
              "      cursor: pointer;\n",
              "      display: none;\n",
              "      fill: #1967D2;\n",
              "      height: 32px;\n",
              "      padding: 0 0 0 0;\n",
              "      width: 32px;\n",
              "    }\n",
              "\n",
              "    .colab-df-convert:hover {\n",
              "      background-color: #E2EBFA;\n",
              "      box-shadow: 0px 1px 2px rgba(60, 64, 67, 0.3), 0px 1px 3px 1px rgba(60, 64, 67, 0.15);\n",
              "      fill: #174EA6;\n",
              "    }\n",
              "\n",
              "    .colab-df-buttons div {\n",
              "      margin-bottom: 4px;\n",
              "    }\n",
              "\n",
              "    [theme=dark] .colab-df-convert {\n",
              "      background-color: #3B4455;\n",
              "      fill: #D2E3FC;\n",
              "    }\n",
              "\n",
              "    [theme=dark] .colab-df-convert:hover {\n",
              "      background-color: #434B5C;\n",
              "      box-shadow: 0px 1px 3px 1px rgba(0, 0, 0, 0.15);\n",
              "      filter: drop-shadow(0px 1px 2px rgba(0, 0, 0, 0.3));\n",
              "      fill: #FFFFFF;\n",
              "    }\n",
              "  </style>\n",
              "\n",
              "    <script>\n",
              "      const buttonEl =\n",
              "        document.querySelector('#df-6cada036-1cb8-4bc6-931c-288db13089a4 button.colab-df-convert');\n",
              "      buttonEl.style.display =\n",
              "        google.colab.kernel.accessAllowed ? 'block' : 'none';\n",
              "\n",
              "      async function convertToInteractive(key) {\n",
              "        const element = document.querySelector('#df-6cada036-1cb8-4bc6-931c-288db13089a4');\n",
              "        const dataTable =\n",
              "          await google.colab.kernel.invokeFunction('convertToInteractive',\n",
              "                                                    [key], {});\n",
              "        if (!dataTable) return;\n",
              "\n",
              "        const docLinkHtml = 'Like what you see? Visit the ' +\n",
              "          '<a target=\"_blank\" href=https://colab.research.google.com/notebooks/data_table.ipynb>data table notebook</a>'\n",
              "          + ' to learn more about interactive tables.';\n",
              "        element.innerHTML = '';\n",
              "        dataTable['output_type'] = 'display_data';\n",
              "        await google.colab.output.renderOutput(dataTable, element);\n",
              "        const docLink = document.createElement('div');\n",
              "        docLink.innerHTML = docLinkHtml;\n",
              "        element.appendChild(docLink);\n",
              "      }\n",
              "    </script>\n",
              "  </div>\n",
              "\n",
              "\n",
              "<div id=\"df-d87e1fb4-0f61-4d43-8dd5-7e26eb6bf60d\">\n",
              "  <button class=\"colab-df-quickchart\" onclick=\"quickchart('df-d87e1fb4-0f61-4d43-8dd5-7e26eb6bf60d')\"\n",
              "            title=\"Suggest charts\"\n",
              "            style=\"display:none;\">\n",
              "\n",
              "<svg xmlns=\"http://www.w3.org/2000/svg\" height=\"24px\"viewBox=\"0 0 24 24\"\n",
              "     width=\"24px\">\n",
              "    <g>\n",
              "        <path d=\"M19 3H5c-1.1 0-2 .9-2 2v14c0 1.1.9 2 2 2h14c1.1 0 2-.9 2-2V5c0-1.1-.9-2-2-2zM9 17H7v-7h2v7zm4 0h-2V7h2v10zm4 0h-2v-4h2v4z\"/>\n",
              "    </g>\n",
              "</svg>\n",
              "  </button>\n",
              "\n",
              "<style>\n",
              "  .colab-df-quickchart {\n",
              "      --bg-color: #E8F0FE;\n",
              "      --fill-color: #1967D2;\n",
              "      --hover-bg-color: #E2EBFA;\n",
              "      --hover-fill-color: #174EA6;\n",
              "      --disabled-fill-color: #AAA;\n",
              "      --disabled-bg-color: #DDD;\n",
              "  }\n",
              "\n",
              "  [theme=dark] .colab-df-quickchart {\n",
              "      --bg-color: #3B4455;\n",
              "      --fill-color: #D2E3FC;\n",
              "      --hover-bg-color: #434B5C;\n",
              "      --hover-fill-color: #FFFFFF;\n",
              "      --disabled-bg-color: #3B4455;\n",
              "      --disabled-fill-color: #666;\n",
              "  }\n",
              "\n",
              "  .colab-df-quickchart {\n",
              "    background-color: var(--bg-color);\n",
              "    border: none;\n",
              "    border-radius: 50%;\n",
              "    cursor: pointer;\n",
              "    display: none;\n",
              "    fill: var(--fill-color);\n",
              "    height: 32px;\n",
              "    padding: 0;\n",
              "    width: 32px;\n",
              "  }\n",
              "\n",
              "  .colab-df-quickchart:hover {\n",
              "    background-color: var(--hover-bg-color);\n",
              "    box-shadow: 0 1px 2px rgba(60, 64, 67, 0.3), 0 1px 3px 1px rgba(60, 64, 67, 0.15);\n",
              "    fill: var(--button-hover-fill-color);\n",
              "  }\n",
              "\n",
              "  .colab-df-quickchart-complete:disabled,\n",
              "  .colab-df-quickchart-complete:disabled:hover {\n",
              "    background-color: var(--disabled-bg-color);\n",
              "    fill: var(--disabled-fill-color);\n",
              "    box-shadow: none;\n",
              "  }\n",
              "\n",
              "  .colab-df-spinner {\n",
              "    border: 2px solid var(--fill-color);\n",
              "    border-color: transparent;\n",
              "    border-bottom-color: var(--fill-color);\n",
              "    animation:\n",
              "      spin 1s steps(1) infinite;\n",
              "  }\n",
              "\n",
              "  @keyframes spin {\n",
              "    0% {\n",
              "      border-color: transparent;\n",
              "      border-bottom-color: var(--fill-color);\n",
              "      border-left-color: var(--fill-color);\n",
              "    }\n",
              "    20% {\n",
              "      border-color: transparent;\n",
              "      border-left-color: var(--fill-color);\n",
              "      border-top-color: var(--fill-color);\n",
              "    }\n",
              "    30% {\n",
              "      border-color: transparent;\n",
              "      border-left-color: var(--fill-color);\n",
              "      border-top-color: var(--fill-color);\n",
              "      border-right-color: var(--fill-color);\n",
              "    }\n",
              "    40% {\n",
              "      border-color: transparent;\n",
              "      border-right-color: var(--fill-color);\n",
              "      border-top-color: var(--fill-color);\n",
              "    }\n",
              "    60% {\n",
              "      border-color: transparent;\n",
              "      border-right-color: var(--fill-color);\n",
              "    }\n",
              "    80% {\n",
              "      border-color: transparent;\n",
              "      border-right-color: var(--fill-color);\n",
              "      border-bottom-color: var(--fill-color);\n",
              "    }\n",
              "    90% {\n",
              "      border-color: transparent;\n",
              "      border-bottom-color: var(--fill-color);\n",
              "    }\n",
              "  }\n",
              "</style>\n",
              "\n",
              "  <script>\n",
              "    async function quickchart(key) {\n",
              "      const quickchartButtonEl =\n",
              "        document.querySelector('#' + key + ' button');\n",
              "      quickchartButtonEl.disabled = true;  // To prevent multiple clicks.\n",
              "      quickchartButtonEl.classList.add('colab-df-spinner');\n",
              "      try {\n",
              "        const charts = await google.colab.kernel.invokeFunction(\n",
              "            'suggestCharts', [key], {});\n",
              "      } catch (error) {\n",
              "        console.error('Error during call to suggestCharts:', error);\n",
              "      }\n",
              "      quickchartButtonEl.classList.remove('colab-df-spinner');\n",
              "      quickchartButtonEl.classList.add('colab-df-quickchart-complete');\n",
              "    }\n",
              "    (() => {\n",
              "      let quickchartButtonEl =\n",
              "        document.querySelector('#df-d87e1fb4-0f61-4d43-8dd5-7e26eb6bf60d button');\n",
              "      quickchartButtonEl.style.display =\n",
              "        google.colab.kernel.accessAllowed ? 'block' : 'none';\n",
              "    })();\n",
              "  </script>\n",
              "</div>\n",
              "\n",
              "  <div id=\"id_35b96d82-e4a2-422e-ad15-6ae7e67c98e4\">\n",
              "    <style>\n",
              "      .colab-df-generate {\n",
              "        background-color: #E8F0FE;\n",
              "        border: none;\n",
              "        border-radius: 50%;\n",
              "        cursor: pointer;\n",
              "        display: none;\n",
              "        fill: #1967D2;\n",
              "        height: 32px;\n",
              "        padding: 0 0 0 0;\n",
              "        width: 32px;\n",
              "      }\n",
              "\n",
              "      .colab-df-generate:hover {\n",
              "        background-color: #E2EBFA;\n",
              "        box-shadow: 0px 1px 2px rgba(60, 64, 67, 0.3), 0px 1px 3px 1px rgba(60, 64, 67, 0.15);\n",
              "        fill: #174EA6;\n",
              "      }\n",
              "\n",
              "      [theme=dark] .colab-df-generate {\n",
              "        background-color: #3B4455;\n",
              "        fill: #D2E3FC;\n",
              "      }\n",
              "\n",
              "      [theme=dark] .colab-df-generate:hover {\n",
              "        background-color: #434B5C;\n",
              "        box-shadow: 0px 1px 3px 1px rgba(0, 0, 0, 0.15);\n",
              "        filter: drop-shadow(0px 1px 2px rgba(0, 0, 0, 0.3));\n",
              "        fill: #FFFFFF;\n",
              "      }\n",
              "    </style>\n",
              "    <button class=\"colab-df-generate\" onclick=\"generateWithVariable('df')\"\n",
              "            title=\"Generate code using this dataframe.\"\n",
              "            style=\"display:none;\">\n",
              "\n",
              "  <svg xmlns=\"http://www.w3.org/2000/svg\" height=\"24px\"viewBox=\"0 0 24 24\"\n",
              "       width=\"24px\">\n",
              "    <path d=\"M7,19H8.4L18.45,9,17,7.55,7,17.6ZM5,21V16.75L18.45,3.32a2,2,0,0,1,2.83,0l1.4,1.43a1.91,1.91,0,0,1,.58,1.4,1.91,1.91,0,0,1-.58,1.4L9.25,21ZM18.45,9,17,7.55Zm-12,3A5.31,5.31,0,0,0,4.9,8.1,5.31,5.31,0,0,0,1,6.5,5.31,5.31,0,0,0,4.9,4.9,5.31,5.31,0,0,0,6.5,1,5.31,5.31,0,0,0,8.1,4.9,5.31,5.31,0,0,0,12,6.5,5.46,5.46,0,0,0,6.5,12Z\"/>\n",
              "  </svg>\n",
              "    </button>\n",
              "    <script>\n",
              "      (() => {\n",
              "      const buttonEl =\n",
              "        document.querySelector('#id_35b96d82-e4a2-422e-ad15-6ae7e67c98e4 button.colab-df-generate');\n",
              "      buttonEl.style.display =\n",
              "        google.colab.kernel.accessAllowed ? 'block' : 'none';\n",
              "\n",
              "      buttonEl.onclick = () => {\n",
              "        google.colab.notebook.generateWithVariable('df');\n",
              "      }\n",
              "      })();\n",
              "    </script>\n",
              "  </div>\n",
              "\n",
              "    </div>\n",
              "  </div>\n"
            ],
            "application/vnd.google.colaboratory.intrinsic+json": {
              "type": "dataframe",
              "variable_name": "df",
              "summary": "{\n  \"name\": \"df\",\n  \"rows\": 1024,\n  \"fields\": [\n    {\n      \"column\": \"Label\",\n      \"properties\": {\n        \"dtype\": \"category\",\n        \"num_unique_values\": 3,\n        \"samples\": [\n          \"Positif\",\n          \"Netral\",\n          \"Negatif\"\n        ],\n        \"semantic_type\": \"\",\n        \"description\": \"\"\n      }\n    },\n    {\n      \"column\": \"Text\",\n      \"properties\": {\n        \"dtype\": \"string\",\n        \"num_unique_values\": 994,\n        \"samples\": [\n          \"@KAI121 min napa sih apk kai skrng lemookot banget sedih tauk \",\n          \"@KAI121 Min infonya dong KA Menoreh relasi PSE-SMT per Februari saya cek di aplikasi KAIAccess kok nggak ada ya? Memang dihapus atau nanti akan dimunculkan lagi ya?\",\n          \"@jogmfs KRL nder 8k aja. Jadwalnya tiap 1-2 jam ada. Trus kalo mau yg ekonomi-eksekutif2 gitu h-2 jam cek KAIaccess ada slot kosong buat go show engga mayan bgt diskonnya\"\n        ],\n        \"semantic_type\": \"\",\n        \"description\": \"\"\n      }\n    },\n    {\n      \"column\": \"Case Folding\",\n      \"properties\": {\n        \"dtype\": \"string\",\n        \"num_unique_values\": 994,\n        \"samples\": [\n          \"@kai121 min napa sih apk kai skrng lemookot banget sedih tauk \",\n          \"@kai121 min infonya dong ka menoreh relasi pse-smt per februari saya cek di aplikasi kaiaccess kok nggak ada ya? memang dihapus atau nanti akan dimunculkan lagi ya?\",\n          \"@jogmfs krl nder 8k aja. jadwalnya tiap 1-2 jam ada. trus kalo mau yg ekonomi-eksekutif2 gitu h-2 jam cek kaiaccess ada slot kosong buat go show engga mayan bgt diskonnya\"\n        ],\n        \"semantic_type\": \"\",\n        \"description\": \"\"\n      }\n    },\n    {\n      \"column\": \"Cleaning\",\n      \"properties\": {\n        \"dtype\": \"string\",\n        \"num_unique_values\": 992,\n        \"samples\": [\n          \"login di      di kai akses udah siapin tujuan darimana kemana sama tanggal berangkat dan udah isi list penumpang\",\n          \"selamat malam mohon bantuannya kenapa gagal dalam pembayaran tiket kereta di kai akses ya\",\n          \"ini kaiaccess kenapa si dulu enak enak aja gua nyari tiket\"\n        ],\n        \"semantic_type\": \"\",\n        \"description\": \"\"\n      }\n    },\n    {\n      \"column\": \"Tokenizing\",\n      \"properties\": {\n        \"dtype\": \"object\",\n        \"semantic_type\": \"\",\n        \"description\": \"\"\n      }\n    },\n    {\n      \"column\": \"Stopwords\",\n      \"properties\": {\n        \"dtype\": \"object\",\n        \"semantic_type\": \"\",\n        \"description\": \"\"\n      }\n    },\n    {\n      \"column\": \"Stemming_text\",\n      \"properties\": {\n        \"dtype\": \"string\",\n        \"num_unique_values\": 991,\n        \"samples\": [\n          \"login kai akses udah siapin tuju darimana mana tanggal berangkat udah isi list tumpang\",\n          \"selamat malam mohon bantu gagal bayar tiket kereta kai akses ya\",\n          \"kaiaccess si enak enak aja gua nyari tiket\"\n        ],\n        \"semantic_type\": \"\",\n        \"description\": \"\"\n      }\n    }\n  ]\n}"
            }
          },
          "metadata": {},
          "execution_count": 52
        }
      ]
    },
    {
      "cell_type": "markdown",
      "source": [
        "**Baris 6** Menyimpan data stemming"
      ],
      "metadata": {
        "id": "NUzkwn4HpFmM"
      }
    },
    {
      "cell_type": "code",
      "source": [
        "#Menyimpan data Stemming\n",
        "df.to_csv(\"/content/data_Stemming4.csv\")"
      ],
      "metadata": {
        "id": "oqZVczTwyhRh"
      },
      "execution_count": null,
      "outputs": []
    }
  ]
}